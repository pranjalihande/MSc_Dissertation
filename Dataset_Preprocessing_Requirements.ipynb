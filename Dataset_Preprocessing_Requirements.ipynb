{
 "cells": [
  {
   "cell_type": "markdown",
   "id": "a648b0a9",
   "metadata": {},
   "source": [
    "## Run below cell to copy all subfloder of CVC-MUSCIMA to one folder\n",
    "\n",
    "Need to update this path variable for 'source' and 'dest' according to requirement"
   ]
  },
  {
   "cell_type": "code",
   "execution_count": null,
   "id": "2c94a165",
   "metadata": {},
   "outputs": [],
   "source": [
    "\n",
    "source = '/home/ec22221/cycleGan_tf_conda/CVCMUSCIMA_WI/CVCMUSCIMA_WI/PNG_GT_BW'  # Path to the folder containing subfolders with images\n",
    "dest = '/home/ec22221/cycleGan_tf_conda/CVCMUSCIMA_WI/CVCMUSCIMA_WI/PNG_GT_BW_all'  # Path to the folder where you want to copy all images\n",
    "\n",
    "os.makedirs(dest)\n",
    "for root, _, files in os.walk(source):\n",
    "    for file in files:\n",
    "        if file.lower().endswith(('.png')):  # Add more extensions if needed\n",
    "            source_path = os.path.join(root, file)\n",
    "            new_file_name = os.path.basename(root) + '_' + file  # Create a new filename using the subfolder name\n",
    "            destination_path = os.path.join(dest, new_file_name)\n",
    "            shutil.copy2(source_path, destination_path)\n"
   ]
  },
  {
   "cell_type": "markdown",
   "id": "3d55d77a",
   "metadata": {},
   "source": [
    "## Run Below cell convert all images of DoReMi dataset to single input channel\n",
    "\n",
    "Need to update this path variable for 'printed_source_folder' and 'printed_dest_folder' according to requirement"
   ]
  },
  {
   "cell_type": "code",
   "execution_count": null,
   "id": "481b86e1",
   "metadata": {},
   "outputs": [],
   "source": [
    "printed_source_folder = '/home/ec22221/cycleGan_tf_conda/DoReMi_v1/DoReMi_v1/Images'\n",
    "printed_dest_folder = '/home/ec22221/cycleGan_tf_conda/DoReMi_v1/DoReMi_v1/Images_1channel'\n",
    "\n",
    "\n",
    "# Create the destination folder if it doesn't exist\n",
    "if not os.path.exists(printed_dest_folder):\n",
    "    os.makedirs(printed_dest_folder)\n",
    "\n",
    "# Iterate over the files in the source folder\n",
    "for filename in os.listdir(printed_source_folder):\n",
    "    # Check if the file is an image (you can modify the condition to match your image file extensions)\n",
    "    if filename.endswith('.png'):\n",
    "        # Build the full file paths\n",
    "        source_path = os.path.join(printed_source_folder, filename)\n",
    "        destination_path = os.path.join(printed_dest_folder, filename)\n",
    "\n",
    "        # Load the image using OpenCV\n",
    "        image = cv2.imread(source_path)\n",
    "        \n",
    "        # Convert the image from BGR to grayscale\n",
    "        gray_image = cv2.cvtColor(image, cv2.COLOR_BGR2GRAY)\n",
    "\n",
    "        # Save the grayscale image to the destination folder\n",
    "        cv2.imwrite(destination_path, gray_image)"
   ]
  },
  {
   "cell_type": "markdown",
   "id": "f5ac7ead",
   "metadata": {},
   "source": [
    "## Run below cell to create Train and Test folder for each dataset, DoReMi and CVC-MUSCIMA"
   ]
  },
  {
   "cell_type": "code",
   "execution_count": null,
   "id": "59d8ba64",
   "metadata": {},
   "outputs": [],
   "source": [
    "def get_train_test_folders(image_folder, train_folder, test_folder):\n",
    "    \n",
    "    # Set the ratio of images to be used for training (0.8 = 80% for training, 0.2 = 20% for testing)\n",
    "    train_ratio = 0.8\n",
    "    \n",
    "    # Create the train and test folders if they don't exist\n",
    "    os.makedirs(train_folder, exist_ok=True)\n",
    "    os.makedirs(test_folder, exist_ok=True)\n",
    "\n",
    "    # Get the list of image files in the folder\n",
    "    image_files = os.listdir(image_folder)\n",
    "\n",
    "    # Shuffle the image files randomly\n",
    "    random.shuffle(image_files)\n",
    "\n",
    "    # Calculate the number of images for the train and test sets\n",
    "    num_train = int(len(image_files) * train_ratio)\n",
    "    num_test = len(image_files) - num_train\n",
    "\n",
    "    # Copy images to the train folder\n",
    "    for image_file in image_files[:num_train]:\n",
    "        src_path = os.path.join(image_folder, image_file)\n",
    "        dst_path = os.path.join(train_folder, image_file)\n",
    "        shutil.copyfile(src_path, dst_path)\n",
    "\n",
    "\n",
    "    # Copy images to the test folder\n",
    "    for image_file in image_files[num_train:]:\n",
    "        src_path = os.path.join(image_folder, image_file)\n",
    "        dst_path = os.path.join(test_folder, image_file)\n",
    "        shutil.copyfile(src_path, dst_path)"
   ]
  },
  {
   "cell_type": "code",
   "execution_count": null,
   "id": "303d7cc1",
   "metadata": {},
   "outputs": [],
   "source": [
    "## Need to update this below path variable according to requirement\n",
    "# printed_image_folder = '/home/ec22221/cycleGan_tf_conda/DoReMi_Staves/short_square_1channel_images'\n",
    "printed_train_folder = '/home/ec22221/cycleGan_tf_conda/DoReMi_Staves/Train_short'\n",
    "printed_test_folder = '/home/ec22221/cycleGan_tf_conda/DoReMi_Staves/Test_short'\n",
    "\n",
    "\n",
    "# hw_image_folder = '/home/ec22221/cycleGan_tf_conda/CVC_staves/short_square_1channel_images'\n",
    "hw_train_folder = '/home/ec22221/cycleGan_tf_conda/CVC_staves/Train_short'\n",
    "hw_test_folder = '/home/ec22221/cycleGan_tf_conda/CVC_staves/Test_short'"
   ]
  },
  {
   "cell_type": "code",
   "execution_count": null,
   "id": "a5c5eb06",
   "metadata": {},
   "outputs": [],
   "source": [
    "get_train_test_folders(printed_image_folder, printed_train_folder, printed_test_folder)"
   ]
  },
  {
   "cell_type": "code",
   "execution_count": null,
   "id": "f7f777be",
   "metadata": {},
   "outputs": [],
   "source": [
    "get_train_test_folders(hw_image_folder, hw_train_folder, hw_test_folder)"
   ]
  }
 ],
 "metadata": {
  "kernelspec": {
   "display_name": "Python 3 (ipykernel)",
   "language": "python",
   "name": "python3"
  },
  "language_info": {
   "codemirror_mode": {
    "name": "ipython",
    "version": 3
   },
   "file_extension": ".py",
   "mimetype": "text/x-python",
   "name": "python",
   "nbconvert_exporter": "python",
   "pygments_lexer": "ipython3",
   "version": "3.9.16"
  }
 },
 "nbformat": 4,
 "nbformat_minor": 5
}
