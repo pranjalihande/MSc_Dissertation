{
 "cells": [
  {
   "cell_type": "markdown",
   "id": "59cd7b2d",
   "metadata": {},
   "source": [
    "## This code can be used to convert cropped rectangular images present on source folder  into square shape.\n",
    "\n",
    "Please make sure to update the folder path as required. The current path is as per the QMUL EECS remote server location."
   ]
  },
  {
   "cell_type": "code",
   "execution_count": 9,
   "id": "eddb8785",
   "metadata": {},
   "outputs": [],
   "source": [
    "from PIL import Image\n",
    "import os"
   ]
  },
  {
   "cell_type": "code",
   "execution_count": 10,
   "id": "ed463b1f",
   "metadata": {},
   "outputs": [],
   "source": [
    "printed_source_folder = '/home/ec22221/cycleGan_tf_conda/DoReMi_Staves/Images_1channel'\n",
    "hw_source_folder = '/home/ec22221/cycleGan_tf_conda/CVC_staves/Images_1channel'"
   ]
  },
  {
   "cell_type": "code",
   "execution_count": 11,
   "id": "b27a2fb6",
   "metadata": {},
   "outputs": [],
   "source": [
    "def split_image(img_path, output_folder):\n",
    "    img = Image.open(img_path)\n",
    "    img_width, img_height = img.size\n",
    "\n",
    "    # Slice width is same as original image height to get square images\n",
    "    slice_width = img_height\n",
    "\n",
    "    # Calculate the number of slices\n",
    "    slices = img_width // slice_width\n",
    "\n",
    "    # Get the original filename without extension\n",
    "    base_filename = os.path.basename(img_path).split('.')[0]\n",
    "\n",
    "    for i in range(slices):\n",
    "        start_pixel = i * slice_width\n",
    "        img_slice = img.crop((start_pixel, 0, start_pixel + slice_width, img_height))\n",
    "        img_slice.save(f\"{output_folder}/{base_filename}_slice_{i}.png\", \"PNG\")\n"
   ]
  },
  {
   "cell_type": "code",
   "execution_count": 12,
   "id": "82e274ee",
   "metadata": {},
   "outputs": [],
   "source": [
    "def process_images(input_folder, output_folder):\n",
    "    # Make the output directory if it doesn't already exist\n",
    "    os.makedirs(output_folder, exist_ok=True)\n",
    "\n",
    "    # Get a list of all image files in the input directory\n",
    "    image_files = [f for f in os.listdir(input_folder) if f.endswith(('.png'))]\n",
    "\n",
    "    for img_file in image_files:\n",
    "        img_path = os.path.join(input_folder, img_file)\n",
    "        split_image(img_path, output_folder)"
   ]
  },
  {
   "cell_type": "code",
   "execution_count": 13,
   "id": "382216ef",
   "metadata": {},
   "outputs": [],
   "source": [
    "printed_out_folder = '/home/ec22221/cycleGan_tf_conda/DoReMi_Staves/Square_Images_1channel'\n",
    "hw_out_folder = '/home/ec22221/cycleGan_tf_conda/CVC_staves/Square_Images_1channel'"
   ]
  },
  {
   "cell_type": "code",
   "execution_count": 14,
   "id": "226765d6",
   "metadata": {},
   "outputs": [],
   "source": [
    "# Call the function\n",
    "process_images(printed_source_folder, printed_out_folder)"
   ]
  },
  {
   "cell_type": "code",
   "execution_count": null,
   "id": "ffe1f347",
   "metadata": {},
   "outputs": [],
   "source": [
    "# Call the function\n",
    "process_images(hw_source_folder, hw_out_folder)"
   ]
  }
 ],
 "metadata": {
  "kernelspec": {
   "display_name": "Python 3 (ipykernel)",
   "language": "python",
   "name": "python3"
  },
  "language_info": {
   "codemirror_mode": {
    "name": "ipython",
    "version": 3
   },
   "file_extension": ".py",
   "mimetype": "text/x-python",
   "name": "python",
   "nbconvert_exporter": "python",
   "pygments_lexer": "ipython3",
   "version": "3.9.16"
  }
 },
 "nbformat": 4,
 "nbformat_minor": 5
}
