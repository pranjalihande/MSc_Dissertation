{
 "cells": [
  {
   "cell_type": "markdown",
   "id": "60890110",
   "metadata": {},
   "source": [
    "## Below cells's calculate FID between printed input music sheet images with corresponding model generated handwritten music sheet images using cleanfid module.\n",
    "\n",
    "Please make sure to update the path of input and model generated images as required."
   ]
  },
  {
   "cell_type": "code",
   "execution_count": 3,
   "id": "f1fc9e0c",
   "metadata": {},
   "outputs": [],
   "source": [
    "from cleanfid import fid"
   ]
  },
  {
   "cell_type": "code",
   "execution_count": 11,
   "id": "ee3334a7",
   "metadata": {},
   "outputs": [],
   "source": [
    "#Path for input and generated images of UNet model\n",
    "\n",
    "input_image = '/home/ec22221/cycleGan_tf_conda/UNet_Model/Test_Results/input'\n",
    "generated_image = '/home/ec22221/cycleGan_tf_conda/UNet_Model/Test_Results/generated/'"
   ]
  },
  {
   "cell_type": "code",
   "execution_count": 12,
   "id": "acaa24a4",
   "metadata": {},
   "outputs": [
    {
     "name": "stdout",
     "output_type": "stream",
     "text": [
      "compute FID between two folders\n",
      "Found 200 images in the folder /home/ec22221/cycleGan_tf_conda/UNet_Model/Test_Results/input\n"
     ]
    },
    {
     "name": "stderr",
     "output_type": "stream",
     "text": [
      "FID input : 100%|███████████████████████████████████████████████████████████████████████████████████████████| 7/7 [00:01<00:00,  4.85it/s]\n"
     ]
    },
    {
     "name": "stdout",
     "output_type": "stream",
     "text": [
      "Found 200 images in the folder /home/ec22221/cycleGan_tf_conda/UNet_Model/Test_Results/generated/\n"
     ]
    },
    {
     "name": "stderr",
     "output_type": "stream",
     "text": [
      "FID  : 100%|████████████████████████████████████████████████████████████████████████████████████████████████| 7/7 [00:01<00:00,  5.79it/s]\n"
     ]
    },
    {
     "name": "stdout",
     "output_type": "stream",
     "text": [
      "FID Score for UNet model: 69.830\n"
     ]
    }
   ],
   "source": [
    "score = fid.compute_fid(input_image, generated_image)\n",
    "print(f\"FID Score for UNet model: {score:.3f}\")"
   ]
  },
  {
   "cell_type": "code",
   "execution_count": 9,
   "id": "96b72f84",
   "metadata": {},
   "outputs": [],
   "source": [
    "#Path for input and generated images of ResNet model\n",
    "\n",
    "\n",
    "input_image = '/home/ec22221/cycleGan_tf_conda/ResNet_Model/Test_Results/input/'\n",
    "generated_image = '/home/ec22221/cycleGan_tf_conda/ResNet_Model/Test_Results/generated/'"
   ]
  },
  {
   "cell_type": "code",
   "execution_count": 10,
   "id": "71b3694c",
   "metadata": {},
   "outputs": [
    {
     "name": "stdout",
     "output_type": "stream",
     "text": [
      "compute FID between two folders\n",
      "Found 200 images in the folder /home/ec22221/cycleGan_tf_conda/ResNet_Model/Test_Results/input/\n"
     ]
    },
    {
     "name": "stderr",
     "output_type": "stream",
     "text": [
      "FID  : 100%|████████████████████████████████████████████████████████████████████████████████████████████████| 7/7 [00:01<00:00,  5.19it/s]\n"
     ]
    },
    {
     "name": "stdout",
     "output_type": "stream",
     "text": [
      "Found 200 images in the folder /home/ec22221/cycleGan_tf_conda/ResNet_Model/Test_Results/generated/\n"
     ]
    },
    {
     "name": "stderr",
     "output_type": "stream",
     "text": [
      "FID  : 100%|████████████████████████████████████████████████████████████████████████████████████████████████| 7/7 [00:01<00:00,  6.39it/s]\n"
     ]
    },
    {
     "name": "stdout",
     "output_type": "stream",
     "text": [
      "FID Score for ResNet model: 60.524\n"
     ]
    }
   ],
   "source": [
    "score = fid.compute_fid(input_image, generated_image)\n",
    "print(f\"FID Score for ResNet model: {score:.3f}\")"
   ]
  },
  {
   "cell_type": "markdown",
   "id": "b3d3fc79",
   "metadata": {},
   "source": [
    "## Below cells's calculate FID between printed input music sheet images with corresponding model generated handwritten music sheet images using inceptionV3 module.\n",
    "\n",
    "Please make sure to update the path of input and model generated images as required."
   ]
  },
  {
   "cell_type": "code",
   "execution_count": 13,
   "id": "3fadf127",
   "metadata": {},
   "outputs": [
    {
     "name": "stderr",
     "output_type": "stream",
     "text": [
      "2023-08-23 12:44:54.718290: I tensorflow/core/util/port.cc:110] oneDNN custom operations are on. You may see slightly different numerical results due to floating-point round-off errors from different computation orders. To turn them off, set the environment variable `TF_ENABLE_ONEDNN_OPTS=0`.\n",
      "2023-08-23 12:44:56.150076: I tensorflow/core/platform/cpu_feature_guard.cc:182] This TensorFlow binary is optimized to use available CPU instructions in performance-critical operations.\n",
      "To enable the following instructions: AVX2 AVX512F AVX512_VNNI FMA, in other operations, rebuild TensorFlow with the appropriate compiler flags.\n",
      "2023-08-23 12:44:59.956050: W tensorflow/compiler/tf2tensorrt/utils/py_utils.cc:38] TF-TRT Warning: Could not find TensorRT\n"
     ]
    }
   ],
   "source": [
    "import os\n",
    "import numpy as np\n",
    "from scipy.linalg import sqrtm\n",
    "from tensorflow.keras.applications.inception_v3 import InceptionV3, preprocess_input\n",
    "from tensorflow.keras.preprocessing.image import load_img, img_to_array\n"
   ]
  },
  {
   "cell_type": "code",
   "execution_count": 14,
   "id": "8611bed5",
   "metadata": {},
   "outputs": [],
   "source": [
    "# Function to calculate FID\n",
    "def calculate_fid(model, images1, images2):\n",
    "    # calculate activations\n",
    "    act1 = model.predict(images1)\n",
    "    act2 = model.predict(images2)\n",
    "\n",
    "    # calculate mean and covariance statistics\n",
    "    mu1, sigma1 = act1.mean(axis=0), np.cov(act1, rowvar=False)\n",
    "    mu2, sigma2 = act2.mean(axis=0), np.cov(act2, rowvar=False)\n",
    "\n",
    "    # calculate sum squared difference between means\n",
    "    ssdiff = np.sum((mu1 - mu2)**2.0)\n",
    "\n",
    "    # calculate sqrt of product between covariances\n",
    "    covmean = sqrtm(sigma1.dot(sigma2))\n",
    "\n",
    "    # check and correct imaginary numbers from sqrt\n",
    "    if np.iscomplexobj(covmean):\n",
    "        covmean = covmean.real\n",
    "\n",
    "    # calculate score\n",
    "    fid = ssdiff + np.trace(sigma1 + sigma2 - 2.0 * covmean)\n",
    "    return fid\n"
   ]
  },
  {
   "cell_type": "code",
   "execution_count": 15,
   "id": "0a47c094",
   "metadata": {},
   "outputs": [],
   "source": [
    "# Function to load all images in a directory\n",
    "def load_images(directory):\n",
    "    images = []\n",
    "    for filename in os.listdir(directory):\n",
    "        # load image\n",
    "        image = load_img(directory + filename, target_size=(299, 299))\n",
    "        # convert image pixels to numpy array\n",
    "        image = img_to_array(image)\n",
    "        # reshape data for the model\n",
    "        image = image.reshape((1, image.shape[0], image.shape[1], image.shape[2]))\n",
    "        # prepare the image for the Inception model\n",
    "        image = preprocess_input(image)\n",
    "        images.append(image)\n",
    "    return np.vstack(images)"
   ]
  },
  {
   "cell_type": "code",
   "execution_count": 16,
   "id": "53c10568",
   "metadata": {},
   "outputs": [
    {
     "name": "stderr",
     "output_type": "stream",
     "text": [
      "2023-08-23 12:45:09.504582: I tensorflow/core/common_runtime/gpu/gpu_device.cc:1635] Created device /job:localhost/replica:0/task:0/device:GPU:0 with 22054 MB memory:  -> device: 0, name: Quadro RTX 6000, pci bus id: 0000:3b:00.0, compute capability: 7.5\n",
      "2023-08-23 12:45:09.505117: I tensorflow/core/common_runtime/gpu/gpu_device.cc:1635] Created device /job:localhost/replica:0/task:0/device:GPU:1 with 15844 MB memory:  -> device: 1, name: Quadro RTX 6000, pci bus id: 0000:d9:00.0, compute capability: 7.5\n"
     ]
    }
   ],
   "source": [
    "# Prepare the inception v3 model\n",
    "model = InceptionV3(include_top=False, pooling='avg', input_shape=(299,299,3))"
   ]
  },
  {
   "cell_type": "code",
   "execution_count": 20,
   "id": "302928db",
   "metadata": {},
   "outputs": [
    {
     "name": "stdout",
     "output_type": "stream",
     "text": [
      "7/7 [==============================] - 0s 47ms/step\n",
      "7/7 [==============================] - 0s 43ms/step\n",
      "FID for UNet Model: 109.63310978256399\n"
     ]
    }
   ],
   "source": [
    "inp = '/home/ec22221/cycleGan_tf_conda/UNet_Model/Test_Results/input/'\n",
    "generated = '/home/ec22221/cycleGan_tf_conda/UNet_Model/Test_Results/generated/'\n",
    "\n",
    "images1 = load_images(inp)\n",
    "images2 = load_images(generated)\n",
    "\n",
    "# Calculate FID\n",
    "fid = calculate_fid(model, images1, images2)\n",
    "print('FID for UNet Model:', fid)"
   ]
  },
  {
   "cell_type": "code",
   "execution_count": 21,
   "id": "aae52687",
   "metadata": {},
   "outputs": [
    {
     "name": "stdout",
     "output_type": "stream",
     "text": [
      "7/7 [==============================] - 0s 48ms/step\n",
      "7/7 [==============================] - 0s 42ms/step\n",
      "FID for ResNet model: 95.88087217882787\n"
     ]
    }
   ],
   "source": [
    "inp = '/home/ec22221/cycleGan_tf_conda/ResNet_Model/Test_Results/input/'\n",
    "generated = '/home/ec22221/cycleGan_tf_conda/ResNet_Model/Test_Results/generated/'\n",
    "\n",
    "images1 = load_images(inp)\n",
    "images2 = load_images(generated)\n",
    "\n",
    "# Calculate FID\n",
    "fid = calculate_fid(model, images1, images2)\n",
    "print('FID for ResNet model:', fid)"
   ]
  },
  {
   "cell_type": "markdown",
   "id": "d1286fbc",
   "metadata": {},
   "source": [
    "## Below cells's Inception Score of model generated handwritten music sheet images.\n",
    "\n",
    "Please make sure to update the path of input and model generated images as required."
   ]
  },
  {
   "cell_type": "code",
   "execution_count": 22,
   "id": "028d3970",
   "metadata": {},
   "outputs": [],
   "source": [
    "import os\n",
    "import numpy as np\n",
    "import tensorflow as tf\n",
    "from tensorflow.keras.applications.inception_v3 import InceptionV3, preprocess_input\n",
    "from tensorflow.keras.preprocessing.image import load_img, img_to_array\n",
    "from scipy.stats import entropy\n"
   ]
  },
  {
   "cell_type": "code",
   "execution_count": 23,
   "id": "8a185ef8",
   "metadata": {},
   "outputs": [],
   "source": [
    "# Function to calculate Inception Score\n",
    "def calculate_inception_score(images, num_splits=10):\n",
    "    # Load InceptionV3 model\n",
    "    model = InceptionV3(include_top=True, weights='imagenet')\n",
    "\n",
    "    # Preprocess images\n",
    "    images = preprocess_input(images)\n",
    "\n",
    "    # Get predicted probabilities for each class\n",
    "    preds = model.predict(images)\n",
    "\n",
    "    # Calculate Inception Score\n",
    "    scores = []\n",
    "    n = len(preds) // num_splits\n",
    "    for i in range(num_splits):\n",
    "        part = preds[(i * n):((i + 1) * n), :]\n",
    "        kl = part * (np.log(part) - np.log(np.expand_dims(np.mean(part, 0), 0)))\n",
    "        kl = np.mean(np.sum(kl, 1))\n",
    "        scores.append(np.exp(kl))\n",
    "    return np.mean(scores), np.std(scores)"
   ]
  },
  {
   "cell_type": "code",
   "execution_count": 24,
   "id": "656687ca",
   "metadata": {},
   "outputs": [],
   "source": [
    "# Function to load all images in a directory\n",
    "def load_images(directory):\n",
    "    images = []\n",
    "    for filename in os.listdir(directory):\n",
    "        # load image\n",
    "        image = load_img(directory + filename, target_size=(299, 299))\n",
    "        # convert image pixels to numpy array\n",
    "        image = img_to_array(image)\n",
    "        # reshape data for the model\n",
    "        image = image.reshape((1, image.shape[0], image.shape[1], image.shape[2]))\n",
    "        images.append(image)\n",
    "    return np.vstack(images)"
   ]
  },
  {
   "cell_type": "code",
   "execution_count": 27,
   "id": "d1f02732",
   "metadata": {},
   "outputs": [
    {
     "name": "stdout",
     "output_type": "stream",
     "text": [
      "7/7 [==============================] - 1s 48ms/step\n",
      "Inception Score of images generated using UNet model: Mean 1.843847 Std 0.1415977\n"
     ]
    }
   ],
   "source": [
    "# Load images from a folder\n",
    "folder_path = '/home/ec22221/cycleGan_tf_conda/UNet_Model/Test_Results/generated/'  # Please replace this with the actual path to your folder\n",
    "images = load_images(folder_path)\n",
    "\n",
    "# Calculate Inception Score\n",
    "mean, std = calculate_inception_score(images)\n",
    "print('Inception Score of images generated using UNet model: Mean', mean, 'Std', std)"
   ]
  },
  {
   "cell_type": "code",
   "execution_count": 26,
   "id": "162658ba",
   "metadata": {},
   "outputs": [
    {
     "name": "stdout",
     "output_type": "stream",
     "text": [
      "7/7 [==============================] - 1s 47ms/step\n",
      "Inception Score  of images generated using ResNet model: Mean 1.6582989 Std 0.1504261\n"
     ]
    }
   ],
   "source": [
    "# Load images from a folder\n",
    "folder_path = '/home/ec22221/cycleGan_tf_conda/ResNet_Model/Test_Results/generated/'  # Please replace this with the actual path to your folder\n",
    "images = load_images(folder_path)\n",
    "\n",
    "# Calculate Inception Score\n",
    "mean, std = calculate_inception_score(images)\n",
    "print('Inception Score  of images generated using ResNet model: Mean', mean, 'Std', std)"
   ]
  }
 ],
 "metadata": {
  "kernelspec": {
   "display_name": "Python 3 (ipykernel)",
   "language": "python",
   "name": "python3"
  },
  "language_info": {
   "codemirror_mode": {
    "name": "ipython",
    "version": 3
   },
   "file_extension": ".py",
   "mimetype": "text/x-python",
   "name": "python",
   "nbconvert_exporter": "python",
   "pygments_lexer": "ipython3",
   "version": "3.9.16"
  }
 },
 "nbformat": 4,
 "nbformat_minor": 5
}
